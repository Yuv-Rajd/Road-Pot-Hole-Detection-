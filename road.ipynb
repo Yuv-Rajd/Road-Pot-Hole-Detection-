{
 "cells": [
  {
   "cell_type": "code",
   "execution_count": 1,
   "id": "8e490706",
   "metadata": {},
   "outputs": [],
   "source": [
    "xml = \"road.xml\"\n",
    "video = \"test.mp4\""
   ]
  },
  {
   "cell_type": "code",
   "execution_count": null,
   "id": "ae9094a5",
   "metadata": {},
   "outputs": [],
   "source": [
    "import cv2\n",
    "\n",
    "# Load the Haar Cascade file\n",
    "cascade = cv2.CascadeClassifier(xml)\n",
    "\n",
    "# Open the video file\n",
    "video = cv2.VideoCapture(\"test.mp4\")\n",
    "\n",
    "# Define the ROI coordinates (x, y, w, h)\n",
    "roi = (600, 600, 400, 300)\n",
    "\n",
    "# Define a font for displaying the object count\n",
    "font = cv2.FONT_HERSHEY_SIMPLEX\n",
    "count = 0\n",
    "# Loop over each frame in the video\n",
    "while True:\n",
    "    # Read the frame\n",
    "    ret, frame = video.read()\n",
    "\n",
    "    # Break the loop if we've reached the end of the video\n",
    "    if not ret:\n",
    "        break\n",
    "\n",
    "    # Define the ROI\n",
    "    x, y, w, h = roi\n",
    "    roi_frame = frame[y:y+h, x:x+w]\n",
    "\n",
    "    # Convert the ROI to grayscale\n",
    "    gray = cv2.cvtColor(roi_frame, cv2.COLOR_BGR2GRAY)\n",
    "\n",
    "    # Detect objects using the Haar Cascade\n",
    "    objects = cascade.detectMultiScale(gray, scaleFactor=1.1, minNeighbors=5, minSize=(30, 30))\n",
    "\n",
    "    # Draw rectangles around the detected objects and display the object count\n",
    "    \n",
    "    for (x, y, w, h) in objects:\n",
    "        cv2.rectangle(roi_frame, (x, y), (x+w, y+h), (0, 0, 255), 2)\n",
    "        count += 1\n",
    "    cv2.putText(roi_frame, f\"Objects detected: {count}\", (10, 50), font, 1, (0, 0, 255), 2, cv2.LINE_AA)\n",
    "\n",
    "    # Display the video frame\n",
    "    cv2.imshow('Video', frame)\n",
    "    cv2.waitKey(50)\n",
    "    # Wait for a key press and break the loop if the 'q' key is pressed\n",
    "    if cv2.waitKey(1) == ord('q'):\n",
    "        break\n",
    "\n",
    "# Release the video and close all windows\n",
    "video.release()\n",
    "cv2.destroyAllWindows()\n"
   ]
  },
  {
   "cell_type": "code",
   "execution_count": null,
   "id": "5183cab8",
   "metadata": {},
   "outputs": [],
   "source": []
  }
 ],
 "metadata": {
  "kernelspec": {
   "display_name": "Python 3 (ipykernel)",
   "language": "python",
   "name": "python3"
  },
  "language_info": {
   "codemirror_mode": {
    "name": "ipython",
    "version": 3
   },
   "file_extension": ".py",
   "mimetype": "text/x-python",
   "name": "python",
   "nbconvert_exporter": "python",
   "pygments_lexer": "ipython3",
   "version": "3.10.4"
  }
 },
 "nbformat": 4,
 "nbformat_minor": 5
}
